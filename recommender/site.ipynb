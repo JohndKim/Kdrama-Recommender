{
 "cells": [
  {
   "cell_type": "code",
   "execution_count": 2,
   "metadata": {},
   "outputs": [],
   "source": [
    "import pandas as pd  # dataframe library\n",
    "from sklearn.feature_extraction.text import \\\n",
    "    TfidfVectorizer  # vectorizes the data\n",
    "from sklearn.metrics.pairwise import \\\n",
    "    cosine_similarity  # finds similarity between vectors\n",
    "\n",
    "# filename = 'csv\\kdrama_data.csv'\n",
    "filename = r\"C:\\Users\\John Kim\\Desktop\\kdrama_data.csv\"\n",
    "\n",
    "label_weights = {\n",
    "        \"keywords\": 0.4,    \n",
    "        \"genres\": 0.3,\n",
    "        \"actors\": 0.2,\n",
    "        \"director\": 0.05,\n",
    "        \"screenwriter\": 0.05,\n",
    "    }\n",
    "\n",
    "df = pd.read_csv(filename)\n",
    "df = df[['title', 'description', 'keywords', 'genres', 'actors', 'director', 'screenwriter']]\n",
    "\n"
   ]
  },
  {
   "cell_type": "code",
   "execution_count": 2,
   "metadata": {},
   "outputs": [],
   "source": [
    "import pandas as pd  # dataframe library\n",
    "from sklearn.feature_extraction.text import \\\n",
    "    TfidfVectorizer  # vectorizes the data\n",
    "from sklearn.metrics.pairwise import \\\n",
    "    cosine_similarity  # finds similarity between vectors\n",
    "\n",
    "# filename = 'csv\\kdrama_data.csv'\n",
    "filename = r\"C:\\Users\\John Kim\\Desktop\\kdrama_data.csv\"\n",
    "\n",
    "label_weights = {\n",
    "        \"keywords\": 0.4,    \n",
    "        \"genres\": 0.3,\n",
    "        \"actors\": 0.2,\n",
    "        \"director\": 0.05,\n",
    "        \"screenwriter\": 0.05,\n",
    "    }\n",
    "\n",
    "df = pd.read_csv(filename)\n",
    "df = df[['title', 'description', 'keywords', 'genres', 'actors', 'director', 'screenwriter']]\n",
    "\n",
    "def get_titles():\n",
    "    np_titles = df['title'].to_numpy()\n",
    "    title_list = np_titles.tolist()\n",
    "    return title_list\n",
    "\n",
    "def fill_na():\n",
    "    \"\"\"replaces na values with an empty string\"\"\"\n",
    "    df.replace(\"N/A\", \"\")\n",
    "    for label in df.columns:\n",
    "        df[label] = df[label].fillna('') # fills N/A values with \"\"\n",
    "\n",
    "def get_indices():\n",
    "    indices = pd.Series(df.index, index=df['title'])\n",
    "    return indices[~indices.index.duplicated(keep='last')]\n",
    "\n",
    "def og_cos_sim():\n",
    "    \"\"\"the similarity scores used to get the initial top x kdramas\"\"\"\n",
    "    tfidf = TfidfVectorizer(stop_words='english')\n",
    "    tfidf_matrix = tfidf.fit_transform(df['keywords'] + \" \" + df['genres']\n",
    "    + \" \" + df['actors'] + \" \" + df['director'] + \" \" + df['screenwriter'])\n",
    "    return cosine_similarity(tfidf_matrix, tfidf_matrix)\n",
    "\n",
    "def search_kdrama(kdrama_name):\n",
    "    \"\"\"searches for kdrama with matching name and returns top result\"\"\"\n",
    "    # return get_indices()[get_indices().index.str.contains(kdrama_name, regex=False, na=False)][0]\n",
    "    return get_indices()[get_indices().index.str.contains(kdrama_name.lower(), case=False, regex=False, na=False)][0]\n",
    "\n",
    "def get_recommended_kdramas(target_kdrama_index, kdrama_similarities, kdramas_df, rec_num):\n",
    "    \"\"\"returns the top (rec_num) recommended kdramas based on keywords, genres, actors, director, director\n",
    "    and screenwriter (we recalculate their similarity score by using our own 'weights' :omg:)\"\"\"\n",
    "    if rec_num <= 1:\n",
    "        # return no kdramas\n",
    "        return False\n",
    "\n",
    "    # should set a max on how many recommended kdrama you can get (maybe like 25 or 50?)\n",
    "    similarity_scores = pd.DataFrame(kdrama_similarities[target_kdrama_index], columns=[\"score\"])\n",
    "    kdrama_indices = similarity_scores.sort_values(\"score\", ascending=False)[1:rec_num].index # gets top 10 (we can change this)\n",
    "    return kdramas_df['title'].iloc[kdrama_indices].values # converts to array\n",
    "\n",
    "def get_score(og_name, rec_name, sim):\n",
    "    \"\"\"gets the similarity score of a kdrama based on ONE aspect (e.g. only keywords)\"\"\"\n",
    "    rec_index = search_kdrama(rec_name)\n",
    "    scores = sim[search_kdrama(og_name)]\n",
    "    return scores[rec_index]\n",
    "\n",
    "def vectorize_kdrama(col_name):\n",
    "    \"\"\"vectorizes the kdrama based on ONE aspect (e.g. only keywords)\"\"\"\n",
    "    tfidf = TfidfVectorizer(stop_words='english')\n",
    "    return tfidf.fit_transform(df[col_name])\n",
    "\n",
    "def find_similarity(matrix):\n",
    "    \"\"\"finds the similarity between this matrix's kdrama and everything else\"\"\"\n",
    "    return cosine_similarity(matrix, matrix)\n",
    "\n",
    "def create_similarity_data(name):\n",
    "    \"\"\"creates a dictionary of arrays with the top 10 similar kdramas\"\"\"\n",
    "    similarity_data = {\n",
    "        \"titles\": [],\n",
    "        \"keywords\": [],\n",
    "        \"genres\": [],\n",
    "        \"actors\": [],\n",
    "        \"director\": [],\n",
    "        \"screenwriter\": [],\n",
    "    }\n",
    "\n",
    "    target_index = search_kdrama(name)\n",
    "    top_ten = get_recommended_kdramas(target_index, og_cos_sim(), df, 10)\n",
    "\n",
    "    for kdrama in top_ten:\n",
    "        # adds this title to dictionary\n",
    "        similarity_data[\"titles\"].append(kdrama)\n",
    "\n",
    "        for label in label_weights.keys():\n",
    "            vec = vectorize_kdrama(label)\n",
    "            sim = find_similarity(vec)\n",
    "            label_score = get_score(name, kdrama, sim) * label_weights[label]\n",
    "            # print(label_score)\n",
    "            similarity_data[label].append(label_score)\n",
    "    \n",
    "    return similarity_data\n",
    "\n",
    "def get_top_rec_kdrama(name):\n",
    "    \"\"\"reorders the top recommended kdramas and converts to a dataframe\"\"\"\n",
    "    fill_na()\n",
    "    data = create_similarity_data(name)\n",
    "    new_df = pd.DataFrame(data)\n",
    "    new_df['sim_score'] = new_df.sum(axis=1, numeric_only=True)\n",
    "    new_df = new_df.sort_values(\"sim_score\", ascending=False)\n",
    "    # print(new_df)\n",
    "    kdrama_list = new_df['sim_score'].values.tolist()\n",
    "    # kdrama_list = new_df['titles'].values.tolist()\n",
    "    return new_df['sim_score']\n",
    "\n",
    "def get_names(name):\n",
    "    \"\"\"reorders the top recommended kdramas and converts to a dataframe\"\"\"\n",
    "    fill_na()\n",
    "    data = create_similarity_data(name)\n",
    "    new_df = pd.DataFrame(data)\n",
    "    new_df['sim_score'] = new_df.sum(axis=1, numeric_only=True)\n",
    "    new_df = new_df.sort_values(\"sim_score\", ascending=False)\n",
    "    # print(new_df)\n",
    "    kdrama_list = new_df['sim_score'].values.tolist()\n",
    "    return new_df['titles'].values.tolist()\n",
    "# get_top_rec_kdrama(\"Move to Heaven\")\n",
    "# search_kdrama(\"heaven\")\n",
    "kdrama_list = get_names(\"Move to Heaven\")\n",
    "sim_scores = get_top_rec_kdrama(\"Move to Heaven\")"
   ]
  },
  {
   "cell_type": "code",
   "execution_count": 34,
   "metadata": {},
   "outputs": [
    {
     "name": "stdout",
     "output_type": "stream",
     "text": [
      "['3 Leaf Clover', 'Navillera', 'Good Doctor', 'Rickety Rackety Family', 'The Light in Your Eyes', 'Uncle', 'Panda and Hedgehog', 'Pluto Squad', 'Air City']\n"
     ]
    }
   ],
   "source": [
    "print(kdrama_list)"
   ]
  },
  {
   "cell_type": "code",
   "execution_count": 17,
   "metadata": {},
   "outputs": [
    {
     "data": {
      "text/plain": [
       "0    373212.903694\n",
       "1    339218.961970\n",
       "2    307060.514558\n",
       "3    273950.194431\n",
       "4    273102.298384\n",
       "5    243545.499227\n",
       "6    226662.965989\n",
       "7     87092.374018\n",
       "8     85393.740714\n",
       "Name: sim_score, dtype: float64"
      ]
     },
     "execution_count": 17,
     "metadata": {},
     "output_type": "execute_result"
    }
   ],
   "source": [
    "sim_scores = sim_scores.reset_index(drop=True)\n",
    "sim_scores"
   ]
  },
  {
   "cell_type": "code",
   "execution_count": 27,
   "metadata": {},
   "outputs": [
    {
     "data": {
      "text/plain": [
       "0    37.3\n",
       "1    33.9\n",
       "2    30.7\n",
       "3    27.4\n",
       "4    27.3\n",
       "5    24.4\n",
       "6    22.7\n",
       "7     8.7\n",
       "8     8.5\n",
       "Name: sim_score, dtype: float64"
      ]
     },
     "execution_count": 27,
     "metadata": {},
     "output_type": "execute_result"
    }
   ],
   "source": [
    "# sim_scores.loc[:,] *= 100\n",
    "sim_scores = sim_scores.round(decimals = 1)\n",
    "sim_scores\n"
   ]
  },
  {
   "cell_type": "code",
   "execution_count": 28,
   "metadata": {},
   "outputs": [
    {
     "name": "stdout",
     "output_type": "stream",
     "text": [
      "{'title': {0: '3 Leaf Clover', 1: 'Navillera', 2: 'Good Doctor', 3: 'Rickety Rackety Family', 4: 'The Light in Your Eyes', 5: 'Uncle', 6: 'Panda and Hedgehog', 7: 'Pluto Squad', 8: 'Air City'}, 'rank': {0: 2272, 1: 13, 2: 176, 3: 2579, 4: 277, 5: 329, 6: 1165, 7: 1596, 8: 1233}, 'score': {0: 7.0, 1: 9.0, 2: 8.3, 3: 4.8, 4: 8.2, 5: 8.1, 6: 7.2, 7: 7.6, 8: 7.1}, 'sim_score': {0: 37.3, 1: 33.9, 2: 30.7, 3: 27.4, 4: 27.3, 5: 24.4, 6: 22.7, 7: 8.7, 8: 8.5}}\n"
     ]
    }
   ],
   "source": [
    "df = pd.read_csv(filename)\n",
    "df = df[['title', 'rank', 'score']]\n",
    "\n",
    "# full_df = pd.DataFrame()\n",
    "for kdrama in kdrama_list:\n",
    "    if kdrama == kdrama_list[0]:\n",
    "        full_df = df.loc[df['title'] == kdrama]\n",
    "        continue\n",
    "    row = df.loc[df['title'] == kdrama]\n",
    "    full_df = pd.concat([full_df, row], ignore_index=True)\n",
    "\n",
    "\n",
    "merged_df = pd.concat([full_df, sim_scores], axis=1, ignore_index=True)\n",
    "merged_df.columns = ['title', 'rank', 'score', 'sim_score']\n",
    "dicti = merged_df.to_dict()\n",
    "print(dicti)"
   ]
  },
  {
   "cell_type": "code",
   "execution_count": 11,
   "metadata": {},
   "outputs": [
    {
     "name": "stdout",
     "output_type": "stream",
     "text": [
      "3 Leaf Clover\n",
      "2272\n",
      "7.0\n",
      "0.37321290369421295\n",
      "9\n"
     ]
    }
   ],
   "source": [
    "# for i in range(9):\n",
    "#     print(dicti['title'][i])\n",
    "\n",
    "# for i in range(len(dicti['title]))\n",
    "for dic in dicti:\n",
    "    print(dicti[dic][0])\n",
    "\n",
    "print(len(dicti['title']))"
   ]
  },
  {
   "cell_type": "code",
   "execution_count": 29,
   "metadata": {},
   "outputs": [
    {
     "name": "stdout",
     "output_type": "stream",
     "text": [
      "{'title': {0: '3 Leaf Clover', 1: 'Navillera', 2: 'Good Doctor', 3: 'Rickety Rackety Family', 4: 'The Light in Your Eyes', 5: 'Uncle', 6: 'Panda and Hedgehog', 7: 'Pluto Squad', 8: 'Air City'}, 'rank': {0: 2272, 1: 13, 2: 176, 3: 2579, 4: 277, 5: 329, 6: 1165, 7: 1596, 8: 1233}, 'score': {0: 7.0, 1: 9.0, 2: 8.3, 3: 4.8, 4: 8.2, 5: 8.1, 6: 7.2, 7: 7.6, 8: 7.1}, 'sim_score': {0: 37.3, 1: 33.9, 2: 30.7, 3: 27.4, 4: 27.3, 5: 24.4, 6: 22.7, 7: 8.7, 8: 8.5}}\n"
     ]
    }
   ],
   "source": [
    "thing = {'title': {0: '3 Leaf Clover', 1: 'Navillera', 2: 'Good Doctor', 3: 'Rickety Rackety Family', 4: 'The Light in Your Eyes', 5: 'Uncle', 6: 'Panda and Hedgehog', 7: 'Pluto Squad', 8: 'Air City'}, 'rank': {0: 2272, 1: 13, 2: 176, 3: 2579, 4: 277, 5: 329, 6: 1165, 7: 1596, 8: 1233}, 'score': {0: 7.0, 1: 9.0, 2: 8.3, 3: 4.8, 4: 8.2, 5: 8.1, 6: 7.2, 7: 7.6, 8: 7.1}, 'sim_score': {0: 37.3, 1: 33.9, 2: 30.7, 3: 27.4, 4: 27.3, 5: 24.4, 6: 22.7, 7: 8.7, 8: 8.5}}\n"
   ]
  }
 ],
 "metadata": {
  "interpreter": {
   "hash": "607d36cc386bb86783cd5b11618343f80a7452933a7ad3095adf519582379640"
  },
  "kernelspec": {
   "display_name": "Python 3.9.12 ('base')",
   "language": "python",
   "name": "python3"
  },
  "language_info": {
   "codemirror_mode": {
    "name": "ipython",
    "version": 3
   },
   "file_extension": ".py",
   "mimetype": "text/x-python",
   "name": "python",
   "nbconvert_exporter": "python",
   "pygments_lexer": "ipython3",
   "version": "3.9.12"
  },
  "orig_nbformat": 4
 },
 "nbformat": 4,
 "nbformat_minor": 2
}
