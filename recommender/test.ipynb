{
 "cells": [
  {
   "cell_type": "code",
   "execution_count": 201,
   "metadata": {},
   "outputs": [
    {
     "data": {
      "text/plain": [
       "title\n",
       "Move to Heaven                   0\n",
       "Romantic Movement In Seoul    2503\n",
       "dtype: int64"
      ]
     },
     "execution_count": 201,
     "metadata": {},
     "output_type": "execute_result"
    }
   ],
   "source": [
    "from sklearn.feature_extraction.text import TfidfVectorizer # vectorizes the data\n",
    "from sklearn.metrics.pairwise import cosine_similarity # finds similarity between vectors\n",
    "\n",
    "import pandas as pd # dataframe library\n",
    "\n",
    "filename = r\"C:\\Users\\John Kim\\Desktop\\kdrama_data.csv\"\n",
    "\n",
    "df = pd.read_csv(filename)\n",
    "\n",
    "df = df[['title', 'description', 'keywords', 'genres', 'actors', 'director', 'screenwriter']]\n",
    "\n",
    "def fill_na():\n",
    "    df.replace(\"N/A\", \"\")\n",
    "    for label in df.columns:\n",
    "        df[label] = df[label].fillna('') # fills N/A values with \"\"\n",
    "\n",
    "fill_na()\n",
    "tfidf = TfidfVectorizer(stop_words='english')\n",
    "tfidf_matrix = tfidf.fit_transform(df['keywords'] + \" \" + df['genres']\n",
    " + \" \" + df['actors'] + \" \" + df['director'] + \" \" + df['screenwriter'])\n",
    "cosine_sim = cosine_similarity(tfidf_matrix, tfidf_matrix)\n",
    "\n",
    "indices = pd.Series(df.index, index=df['title'])\n",
    "indices = indices[~indices.index.duplicated(keep='last')]\n",
    "\n",
    "def search_kdrama(kdrama_name, kdrama_indices):\n",
    "    return kdrama_indices[kdrama_indices.index.str.contains(kdrama_name, na=False)]\n",
    "\n",
    "def get_recommended_kdramas(target_kdrama_index, kdrama_similarities, kdramas_df):\n",
    "    similarity_scores = pd.DataFrame(kdrama_similarities[target_kdrama_index], columns=[\"score\"])\n",
    "    kdrama_indices = similarity_scores.sort_values(\"score\", ascending=False)[1:11].index\n",
    "    return pd.concat([kdramas_df['title'].iloc[kdrama_indices], similarity_scores.iloc[kdrama_indices]], axis = 1)\n",
    "\n",
    "get_recommended_kdramas(1, cosine_sim, df)\n",
    "search_kdrama(\"Move\", indices)\n"
   ]
  },
  {
   "cell_type": "code",
   "execution_count": 20,
   "metadata": {},
   "outputs": [],
   "source": [
    "tfidf = TfidfVectorizer(stop_words='english')\n",
    "df['Synopsis'] = df['Synopsis'].fillna('') # null synposis = \"\""
   ]
  },
  {
   "cell_type": "code",
   "execution_count": 21,
   "metadata": {},
   "outputs": [
    {
     "data": {
      "text/plain": [
       "(100, 1853)"
      ]
     },
     "execution_count": 21,
     "metadata": {},
     "output_type": "execute_result"
    }
   ],
   "source": [
    "tfidf_matrix = tfidf.fit_transform(df['Synopsis'])\n",
    "tfidf_matrix.shape # (100, 1853) means 100 movies, 1853 unique words"
   ]
  },
  {
   "cell_type": "code",
   "execution_count": 26,
   "metadata": {},
   "outputs": [
    {
     "data": {
      "text/plain": [
       "array([1.        , 0.00672245, 0.01857485, 0.        , 0.04389825,\n",
       "       0.04899857, 0.        , 0.0051677 , 0.00652825, 0.        ,\n",
       "       0.02324584, 0.        , 0.00660733, 0.02052612, 0.        ,\n",
       "       0.        , 0.00637876, 0.00541432, 0.01489357, 0.02412528,\n",
       "       0.02917888, 0.        , 0.        , 0.01836815, 0.01931049,\n",
       "       0.        , 0.        , 0.00936167, 0.02332473, 0.01842789,\n",
       "       0.        , 0.        , 0.        , 0.01726747, 0.01194718,\n",
       "       0.01797403, 0.02007764, 0.00642033, 0.01068586, 0.        ,\n",
       "       0.0235464 , 0.05099411, 0.        , 0.00723527, 0.        ,\n",
       "       0.03692231, 0.18003975, 0.01240955, 0.02886854, 0.0282077 ,\n",
       "       0.01657028, 0.08602724, 0.        , 0.        , 0.        ,\n",
       "       0.01538312, 0.        , 0.        , 0.01919222, 0.01252548,\n",
       "       0.        , 0.01655885, 0.01152103, 0.        , 0.        ,\n",
       "       0.03381299, 0.01628826, 0.00475315, 0.0258285 , 0.        ,\n",
       "       0.02381831, 0.        , 0.        , 0.01617681, 0.        ,\n",
       "       0.00992964, 0.01963289, 0.00823228, 0.04639724, 0.        ,\n",
       "       0.        , 0.01401301, 0.17409186, 0.        , 0.03659297,\n",
       "       0.02111975, 0.02797476, 0.01297098, 0.        , 0.02551302,\n",
       "       0.01541465, 0.01078482, 0.        , 0.03849792, 0.0359151 ,\n",
       "       0.        , 0.        , 0.00865184, 0.05731921, 0.        ])"
      ]
     },
     "execution_count": 26,
     "metadata": {},
     "output_type": "execute_result"
    }
   ],
   "source": [
    "cosine_sim = cosine_similarity(tfidf_matrix, tfidf_matrix) # calculates similarity between each drama (?)\n",
    "cosine_sim[0][1] # compares similarity between number 1 movie with number 2 movie"
   ]
  },
  {
   "cell_type": "code",
   "execution_count": 200,
   "metadata": {},
   "outputs": [
    {
     "data": {
      "text/plain": [
       "title\n",
       "Move to Heaven            0\n",
       "Hospital Playlist         1\n",
       "Flower of Evil            2\n",
       "Hospital Playlist 2       3\n",
       "My Mister                 4\n",
       "                       ... \n",
       "Never Give Up          3027\n",
       "Doctor Lawyer          3028\n",
       "My Rocket Ship         3029\n",
       "Gold Mask              3030\n",
       "Master's Delicacies    3031\n",
       "Length: 3032, dtype: int64"
      ]
     },
     "execution_count": 200,
     "metadata": {},
     "output_type": "execute_result"
    }
   ],
   "source": [
    "indices = pd.Series(df.index, index=df['title'])\n",
    "indices = indices[~indices.index.duplicated(keep='last')]\n",
    "indices"
   ]
  },
  {
   "cell_type": "code",
   "execution_count": 42,
   "metadata": {},
   "outputs": [
    {
     "data": {
      "text/plain": [
       "0"
      ]
     },
     "execution_count": 42,
     "metadata": {},
     "output_type": "execute_result"
    }
   ],
   "source": [
    "target_kdrama_index = indices['Move to Heaven'] # lets us get its indices\n",
    "target_kdrama_index"
   ]
  },
  {
   "cell_type": "code",
   "execution_count": 43,
   "metadata": {},
   "outputs": [
    {
     "data": {
      "text/html": [
       "<div>\n",
       "<style scoped>\n",
       "    .dataframe tbody tr th:only-of-type {\n",
       "        vertical-align: middle;\n",
       "    }\n",
       "\n",
       "    .dataframe tbody tr th {\n",
       "        vertical-align: top;\n",
       "    }\n",
       "\n",
       "    .dataframe thead th {\n",
       "        text-align: right;\n",
       "    }\n",
       "</style>\n",
       "<table border=\"1\" class=\"dataframe\">\n",
       "  <thead>\n",
       "    <tr style=\"text-align: right;\">\n",
       "      <th></th>\n",
       "      <th>score</th>\n",
       "    </tr>\n",
       "  </thead>\n",
       "  <tbody>\n",
       "    <tr>\n",
       "      <th>0</th>\n",
       "      <td>1.000000</td>\n",
       "    </tr>\n",
       "    <tr>\n",
       "      <th>1</th>\n",
       "      <td>0.006722</td>\n",
       "    </tr>\n",
       "    <tr>\n",
       "      <th>2</th>\n",
       "      <td>0.018575</td>\n",
       "    </tr>\n",
       "    <tr>\n",
       "      <th>3</th>\n",
       "      <td>0.000000</td>\n",
       "    </tr>\n",
       "    <tr>\n",
       "      <th>4</th>\n",
       "      <td>0.043898</td>\n",
       "    </tr>\n",
       "    <tr>\n",
       "      <th>...</th>\n",
       "      <td>...</td>\n",
       "    </tr>\n",
       "    <tr>\n",
       "      <th>95</th>\n",
       "      <td>0.000000</td>\n",
       "    </tr>\n",
       "    <tr>\n",
       "      <th>96</th>\n",
       "      <td>0.000000</td>\n",
       "    </tr>\n",
       "    <tr>\n",
       "      <th>97</th>\n",
       "      <td>0.008652</td>\n",
       "    </tr>\n",
       "    <tr>\n",
       "      <th>98</th>\n",
       "      <td>0.057319</td>\n",
       "    </tr>\n",
       "    <tr>\n",
       "      <th>99</th>\n",
       "      <td>0.000000</td>\n",
       "    </tr>\n",
       "  </tbody>\n",
       "</table>\n",
       "<p>100 rows × 1 columns</p>\n",
       "</div>"
      ],
      "text/plain": [
       "       score\n",
       "0   1.000000\n",
       "1   0.006722\n",
       "2   0.018575\n",
       "3   0.000000\n",
       "4   0.043898\n",
       "..       ...\n",
       "95  0.000000\n",
       "96  0.000000\n",
       "97  0.008652\n",
       "98  0.057319\n",
       "99  0.000000\n",
       "\n",
       "[100 rows x 1 columns]"
      ]
     },
     "execution_count": 43,
     "metadata": {},
     "output_type": "execute_result"
    }
   ],
   "source": [
    "similarity_scores = pd.DataFrame(cosine_sim[target_kdrama_index], columns = [\"score\"])\n",
    "similarity_scores"
   ]
  },
  {
   "cell_type": "code",
   "execution_count": 45,
   "metadata": {},
   "outputs": [
    {
     "data": {
      "text/plain": [
       "0                    Move to Heaven\n",
       "46                          Misaeng\n",
       "82                          Save Me\n",
       "51                 The Fiery Priest\n",
       "98    Because This Is My First Life\n",
       "41          While You Were Sleeping\n",
       "5                   Prison Playbook\n",
       "78                       Squid Game\n",
       "4                         My Mister\n",
       "93                  Beautiful World\n",
       "45        Arthdal Chronicles Part 2\n",
       "Name: Name, dtype: object"
      ]
     },
     "execution_count": 45,
     "metadata": {},
     "output_type": "execute_result"
    }
   ],
   "source": [
    "kdrama_indices = similarity_scores.sort_values(\"score\", ascending=False)[0:11].index\n",
    "df['Name'].iloc[kdrama_indices]"
   ]
  },
  {
   "cell_type": "code",
   "execution_count": 191,
   "metadata": {},
   "outputs": [
    {
     "data": {
      "text/plain": [
       "title\n",
       "Move to Heaven                           0\n",
       "It's Okay to Not Be Okay                 9\n",
       "Hometown Cha-Cha-Cha                    28\n",
       "Hot Stove League                        59\n",
       "Ghost Doctor                            67\n",
       "                                      ... \n",
       "Six Love Story                        1541\n",
       "My Love: Six Stories of True Love     1566\n",
       "Hometown Over the Hill 2              1573\n",
       "Pluto Squad                           1596\n",
       "The Sensible Life of Director Shin    1597\n",
       "Length: 97, dtype: int64"
      ]
     },
     "execution_count": 191,
     "metadata": {},
     "output_type": "execute_result"
    }
   ],
   "source": [
    "def search_kdrama(kdrama_name, kdrama_indices):\n",
    "    return kdrama_indices[kdrama_indices.index.str.contains(kdrama_name, na=False)]\n",
    "\n",
    "search_kdrama('to', indices)"
   ]
  },
  {
   "cell_type": "code",
   "execution_count": 50,
   "metadata": {},
   "outputs": [
    {
     "data": {
      "text/plain": [
       "1                   Hospital Playlist\n",
       "3                 Hospital Playlist 2\n",
       "43                     Dr. Romantic 2\n",
       "10                             Signal\n",
       "66                 Children of Nobody\n",
       "26    Weightlifting Fairy Kim Bok Joo\n",
       "96                        Doctor John\n",
       "6                          Reply 1988\n",
       "53             Descendants of the Sun\n",
       "18                             Healer\n",
       "42                    Dear My Friends\n",
       "Name: Name, dtype: object"
      ]
     },
     "execution_count": 50,
     "metadata": {},
     "output_type": "execute_result"
    }
   ],
   "source": [
    "def get_recommended_kdramas(target_kdrama_index, kdrama_similarities, kdramas_df):\n",
    "    similarity_scores = pd.DataFrame(kdrama_similarities[target_kdrama_index], columns=[\"score\"])\n",
    "    kdrama_indices = similarity_scores.sort_values(\"score\", ascending=False)[0:11].index\n",
    "    return kdramas_df['Name'].iloc[kdrama_indices]\n",
    "\n",
    "get_recommended_kdramas(1, cosine_sim, df)"
   ]
  }
 ],
 "metadata": {
  "interpreter": {
   "hash": "607d36cc386bb86783cd5b11618343f80a7452933a7ad3095adf519582379640"
  },
  "kernelspec": {
   "display_name": "Python 3.9.12 ('base')",
   "language": "python",
   "name": "python3"
  },
  "language_info": {
   "codemirror_mode": {
    "name": "ipython",
    "version": 3
   },
   "file_extension": ".py",
   "mimetype": "text/x-python",
   "name": "python",
   "nbconvert_exporter": "python",
   "pygments_lexer": "ipython3",
   "version": "3.9.12"
  },
  "orig_nbformat": 4
 },
 "nbformat": 4,
 "nbformat_minor": 2
}
